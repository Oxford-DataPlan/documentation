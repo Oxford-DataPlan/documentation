{
 "cells": [
  {
   "cell_type": "code",
   "execution_count": null,
   "metadata": {},
   "outputs": [],
   "source": [
    "import os\n",
    "import requests\n",
    "import json\n",
    "import jwt\n",
    "\n",
    "\n",
    "\"\"\"\n",
    "Sometimes it's not possible to get the credentials from the environment variables,\n",
    "so we can provide them in a credentials.json file, or we can directly set their values here.\n",
    "\"\"\"\n",
    "\n",
    "credentials_json_path = \"credentials.json\"\n",
    "if os.path.exists(credentials_json_path):\n",
    "    with open(credentials_json_path, \"r\") as f:\n",
    "        credentials = json.loads(f.read())\n",
    "    USER = {\n",
    "        \"username\": credentials[\"ODP_WP_USER\"],\n",
    "        \"password\": credentials[\"ODP_WP_PASSWORD\"]\n",
    "    }\n",
    "else:\n",
    "    USER = {\n",
    "        \"username\": \"\" or os.getenv(\"ODP_WP_USER\"),\n",
    "        \"password\": \"\" or os.getenv(\"ODP_WP_PASSWORD\")\n",
    "    }\n",
    "\n",
    "\n",
    "AUTH_URL = \"https://oxford-dp.com/wp-json/jwt-auth/v1/token\"\n",
    "API_URL = \"https://api.uat.oxford-dp.link/api\""
   ]
  },
  {
   "cell_type": "code",
   "execution_count": null,
   "metadata": {},
   "outputs": [],
   "source": [
    "auth_response = requests.post(\n",
    "    AUTH_URL,\n",
    "    data=USER\n",
    ")\n",
    "auth_response_json = auth_response.json()\n",
    "if auth_response.status_code != 200:\n",
    "    print(f\"status_code: {auth_response_json['data']['status']}\")\n",
    "    print(f\"response: {auth_response_json['message']}\")\n",
    "    exit()\n",
    "\n",
    "token = auth_response_json.get(\"token\")"
   ]
  },
  {
   "cell_type": "code",
   "execution_count": null,
   "metadata": {},
   "outputs": [],
   "source": [
    "def get_decoded_token(token):\n",
    "    decoded_token = jwt.decode(\n",
    "        token,\n",
    "        algorithms=[\"HS256\"],\n",
    "        options=dict(verify_signature=False)\n",
    "    )\n",
    "    return decoded_token"
   ]
  },
  {
   "cell_type": "code",
   "execution_count": null,
   "metadata": {},
   "outputs": [],
   "source": [
    "company_names_allowed = get_decoded_token(token)['roles'].split(\",\")"
   ]
  },
  {
   "cell_type": "code",
   "execution_count": null,
   "metadata": {},
   "outputs": [],
   "source": [
    "company_names = [\n",
    "    \"Deliveroo\",\n",
    "    \"Meta\",\n",
    "    'Asos'\n",
    "]"
   ]
  },
  {
   "cell_type": "code",
   "execution_count": null,
   "metadata": {},
   "outputs": [],
   "source": [
    "company_names = company_names_allowed"
   ]
  },
  {
   "cell_type": "code",
   "execution_count": null,
   "metadata": {},
   "outputs": [],
   "source": [
    "TEST_CASES_DAILY_INDICES = {\n",
    "    f\"TEST_CASE{i}\": {\n",
    "        \"endpoint\": \"/indexes\",\n",
    "        \"payload\": {\n",
    "            \"type\": \"daily\",\n",
    "            \"duration_start\": \"2023-06-08\",\n",
    "            \"duration_end\": \"2023-06-15\",\n",
    "            \"company\": test_company\n",
    "        },\n",
    "        \"headers\": {\n",
    "            \"accept\": \"application/json\",\n",
    "            \"Content-Type\": \"application/json\"\n",
    "        }\n",
    "    } for i, test_company in enumerate(company_names)\n",
    "}"
   ]
  },
  {
   "cell_type": "code",
   "execution_count": null,
   "metadata": {},
   "outputs": [],
   "source": [
    "TEST_CASES_MONTHLY_INDICES = {\n",
    "    f\"TEST_CASE{i}\": {\n",
    "        \"endpoint\": \"/monthly_indexes\",\n",
    "        \"payload\": {\n",
    "            \"type\": \"monthly\",\n",
    "            \"duration_start\": \"2021-06-08\",\n",
    "            \"duration_end\": \"2023-06-15\",\n",
    "            \"company\": test_company\n",
    "        },\n",
    "        \"headers\": {\n",
    "            \"accept\": \"application/json\",\n",
    "            \"Content-Type\": \"application/json\"\n",
    "        }\n",
    "    } for i, test_company in enumerate(company_names)\n",
    "}"
   ]
  },
  {
   "cell_type": "code",
   "execution_count": null,
   "metadata": {},
   "outputs": [],
   "source": [
    "TEST_CASES_OUTLOOK = {\n",
    "    f\"TEST_CASE{i}\": {\n",
    "        \"endpoint\": \"/outlook\",\n",
    "        \"payload\": {\n",
    "            \"type\": \"daily\",\n",
    "            \"duration_start\": \"2023-06-08\",\n",
    "            \"duration_end\": \"2024-06-15\",\n",
    "            \"company\": test_company\n",
    "        },\n",
    "        \"headers\": {\n",
    "            \"accept\": \"application/json\",\n",
    "            \"Content-Type\": \"application/json\"\n",
    "        }\n",
    "    } for i, test_company in enumerate(company_names)\n",
    "}"
   ]
  },
  {
   "cell_type": "code",
   "execution_count": null,
   "metadata": {},
   "outputs": [],
   "source": [
    "TEST_CASES = TEST_CASES_DAILY_INDICES\n",
    "# TEST_CASES = TEST_CASES_MONTHLY_INDICES\n",
    "# TEST_CASES = TEST_CASES_OUTLOOK"
   ]
  },
  {
   "cell_type": "code",
   "execution_count": null,
   "metadata": {},
   "outputs": [],
   "source": [
    "TEST_CASES"
   ]
  },
  {
   "cell_type": "code",
   "execution_count": null,
   "metadata": {},
   "outputs": [],
   "source": [
    "for key, value in TEST_CASES.items():\n",
    "    print(f\"--- Running test {key} ---\")\n",
    "    payload = value.get('payload')\n",
    "    headers = value.get('headers', {})\n",
    "    headers.update({\"Authorization\": f\"Bearer {token}\"})\n",
    "    endpoint = value.get('endpoint')\n",
    "    print(f\"{payload['company']}, {endpoint}\")\n",
    "\n",
    "    test_response = requests.post(\n",
    "        f\"{API_URL}{value.get('endpoint')}\",\n",
    "        json=payload,\n",
    "        headers=headers\n",
    "    )\n",
    "    try:\n",
    "        response_code = test_response.status_code\n",
    "        if response_code == 200:\n",
    "            print(f\"status_code: {test_response.status_code}\")\n",
    "            print(json.dumps(test_response.json(), indent=2))\n",
    "        else:\n",
    "            print(f\"status_code: {test_response.status_code}\")\n",
    "            print(test_response.text)\n",
    "    except Exception as e:\n",
    "        print(f\"Error: {e}\")\n"
   ]
  },
  {
   "cell_type": "code",
   "execution_count": null,
   "metadata": {},
   "outputs": [],
   "source": []
  }
 ],
 "metadata": {
  "kernelspec": {
   "display_name": "odp_db_env",
   "language": "python",
   "name": "python3"
  },
  "language_info": {
   "codemirror_mode": {
    "name": "ipython",
    "version": 3
   },
   "file_extension": ".py",
   "mimetype": "text/x-python",
   "name": "python",
   "nbconvert_exporter": "python",
   "pygments_lexer": "ipython3",
   "version": "3.8.9"
  },
  "orig_nbformat": 4
 },
 "nbformat": 4,
 "nbformat_minor": 2
}
